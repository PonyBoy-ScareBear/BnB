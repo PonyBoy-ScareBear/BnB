{
 "cells": [
  {
   "cell_type": "markdown",
   "metadata": {},
   "source": [
    "# BnB Battle Master Dashboard"
   ]
  },
  {
   "cell_type": "markdown",
   "metadata": {},
   "source": [
    "### Badass Modifier"
   ]
  },
  {
   "cell_type": "code",
   "execution_count": 60,
   "metadata": {},
   "outputs": [
    {
     "name": "stdout",
     "output_type": "stream",
     "text": [
      "Badass Modifier:\n",
      "----------------\n",
      "Dice Roll = 4\n",
      "\n",
      "RAGING\n",
      "Deals double damage\n"
     ]
    }
   ],
   "source": [
    "%run Badass_Modifier.py"
   ]
  },
  {
   "cell_type": "markdown",
   "metadata": {},
   "source": [
    "### Cache"
   ]
  },
  {
   "cell_type": "code",
   "execution_count": 156,
   "metadata": {},
   "outputs": [
    {
     "name": "stdout",
     "output_type": "stream",
     "text": [
      "Tiny Cache: 30g + Uncommon Health Potion\n"
     ]
    }
   ],
   "source": [
    "%run Cache.py\n",
    "\n",
    "# Input Cache Size: 'Tiny', 'Small', 'Medium', 'Large', 'Legendary'\n",
    "Cache('Tiny')"
   ]
  },
  {
   "cell_type": "markdown",
   "metadata": {},
   "source": [
    "### Loot Drop"
   ]
  },
  {
   "cell_type": "code",
   "execution_count": 143,
   "metadata": {},
   "outputs": [
    {
     "name": "stdout",
     "output_type": "stream",
     "text": [
      "1st Item: Shield Potion (4)\n"
     ]
    }
   ],
   "source": [
    "%run Loot_Drop.py\n",
    "\n",
    "# Badass Rank:\n",
    "# 01 - 03 = 1\n",
    "# 04 - 06 = 2\n",
    "# 07 - 12 = 3\n",
    "# 13 - 18 = 4\n",
    "# 19 - 24 = 5\n",
    "#   25+   = 6 \n",
    "\n",
    "# Function: Input Badass Rank for enemy and the d4s that the PC rolls\n",
    "LootDrop(1,3)\n",
    "\n"
   ]
  },
  {
   "cell_type": "markdown",
   "metadata": {},
   "source": [
    "### NPC"
   ]
  },
  {
   "cell_type": "code",
   "execution_count": 59,
   "metadata": {},
   "outputs": [
    {
     "name": "stdout",
     "output_type": "stream",
     "text": [
      "NPC Trait:\n",
      "----------\n",
      "Dice Roll = 17\n",
      "Trait: Drunk\n"
     ]
    }
   ],
   "source": [
    "%run NPC.py"
   ]
  },
  {
   "cell_type": "markdown",
   "metadata": {},
   "source": [
    "### Quest Rewards"
   ]
  },
  {
   "cell_type": "markdown",
   "metadata": {},
   "source": [
    "Quest Rewards by Quest Level"
   ]
  },
  {
   "cell_type": "code",
   "execution_count": 17,
   "metadata": {},
   "outputs": [
    {
     "name": "stdout",
     "output_type": "stream",
     "text": [
      "   Quest Level   XP  Gold  Encounter BR (Per VH)\n",
      "0            1  300   300                      7\n"
     ]
    }
   ],
   "source": [
    "%run Quest_Rewards.py\n",
    "\n",
    "# Input Quest Level\n",
    "QuestRewards_QL(1)"
   ]
  },
  {
   "cell_type": "markdown",
   "metadata": {},
   "source": [
    "Quest Rewards by Average Vault Hunter Level"
   ]
  },
  {
   "cell_type": "code",
   "execution_count": 16,
   "metadata": {},
   "outputs": [
    {
     "name": "stdout",
     "output_type": "stream",
     "text": [
      "   Quest Level   XP  Gold  Encounter BR (Per VH)\n",
      "0            1  300   300                      7\n",
      "1            2  300   300                      7\n",
      "2            3  300   300                      7\n"
     ]
    }
   ],
   "source": [
    "%run Quest_Rewards.py\n",
    "\n",
    "# Input Average Vault Hunter Level\n",
    "QuestRewards_VHL(7)"
   ]
  },
  {
   "cell_type": "markdown",
   "metadata": {},
   "source": [
    "### RandoStuffs"
   ]
  },
  {
   "cell_type": "code",
   "execution_count": 37,
   "metadata": {},
   "outputs": [
    {
     "name": "stdout",
     "output_type": "stream",
     "text": [
      "RandoStuffs:\n",
      "------------\n",
      "Dice Roll = 71\n",
      "\n",
      "BOOM!\n",
      "Something f*cking explodes like KA-BLAM!\n"
     ]
    }
   ],
   "source": [
    "%run RandoStuffs.py"
   ]
  },
  {
   "cell_type": "markdown",
   "metadata": {},
   "source": [
    "### Side Quests"
   ]
  },
  {
   "cell_type": "code",
   "execution_count": 39,
   "metadata": {},
   "outputs": [
    {
     "name": "stdout",
     "output_type": "stream",
     "text": [
      "Side Quest:\n",
      "-----------\n",
      "Dice Roll = 5\n",
      "Location: Feriore Lumbermill\n",
      "\n",
      "Dice Roll = 10\n",
      "Interaction: Search for relics\n"
     ]
    }
   ],
   "source": [
    "%run Side_Quests.py"
   ]
  },
  {
   "cell_type": "markdown",
   "metadata": {},
   "source": [
    "### Trauma"
   ]
  },
  {
   "cell_type": "markdown",
   "metadata": {},
   "source": [
    "Temporary Trauma"
   ]
  },
  {
   "cell_type": "code",
   "execution_count": 122,
   "metadata": {},
   "outputs": [
    {
     "name": "stdout",
     "output_type": "stream",
     "text": [
      "Temporary Trauma:\n",
      "-----------------\n",
      "Dice Roll = 1\n",
      "\n",
      "Bad Luck\n",
      "The BREW-U malfunctions: roll on Permanent table\n",
      "\n",
      "Permanent Trauma: Godkiller\n",
      "Your vault hunter blames the one TRULY responsible for their death: You. Your vault hunter now has a personal vendetta against you. The BM will insert you into the story somewhere and your vault hunter will do whatever is necessary to hunt you down and say some very harsh words.\n"
     ]
    }
   ],
   "source": [
    "%run Temporary_Trauma.py"
   ]
  },
  {
   "cell_type": "markdown",
   "metadata": {},
   "source": [
    "Permanent Trauma"
   ]
  },
  {
   "cell_type": "code",
   "execution_count": null,
   "metadata": {},
   "outputs": [],
   "source": [
    "%run Permanent_Trauma.py"
   ]
  }
 ],
 "metadata": {
  "interpreter": {
   "hash": "470c2e72596219e25971e8a01f37fec4f1acd24ab1faf26e35ddf87c4a9d83d1"
  },
  "kernelspec": {
   "display_name": "Python 3",
   "language": "python",
   "name": "python3"
  },
  "language_info": {
   "codemirror_mode": {
    "name": "ipython",
    "version": 3
   },
   "file_extension": ".py",
   "mimetype": "text/x-python",
   "name": "python",
   "nbconvert_exporter": "python",
   "pygments_lexer": "ipython3",
   "version": "3.8.5"
  }
 },
 "nbformat": 4,
 "nbformat_minor": 2
}
